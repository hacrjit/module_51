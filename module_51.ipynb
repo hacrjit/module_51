{
 "cells": [
  {
   "cell_type": "markdown",
   "id": "367123f2-eaeb-4c21-94d9-6b91d99f0fc8",
   "metadata": {},
   "source": [
    "### <b>Question No. 1</b>"
   ]
  },
  {
   "cell_type": "code",
   "execution_count": 1,
   "id": "4b3e6043-d88b-4dd8-8783-43dae4b15296",
   "metadata": {},
   "outputs": [
    {
     "name": "stdout",
     "output_type": "stream",
     "text": [
      "F-value: 1.0, p-value: 0.5\n"
     ]
    }
   ],
   "source": [
    "import numpy as np\n",
    "from scipy import stats\n",
    "\n",
    "def calculate_f_value(data1, data2):\n",
    "    # Calculate the means\n",
    "    mean1 = np.mean(data1)\n",
    "    mean2 = np.mean(data2)\n",
    "    \n",
    "    # Calculate the sum of squares\n",
    "    ss1 = np.sum((data1 - mean1) ** 2)\n",
    "    ss2 = np.sum((data2 - mean2) ** 2)\n",
    "    \n",
    "    # Calculate the degrees of freedom\n",
    "    df1 = len(data1) - 1\n",
    "    df2 = len(data2) - 1\n",
    "    \n",
    "    # Calculate the F-value\n",
    "    f_value = (ss1 / df1) / (ss2 / df2)\n",
    "    \n",
    "    # Calculate the p-value\n",
    "    p_value = 1 - stats.f.cdf(f_value, df1, df2)\n",
    "    \n",
    "    return f_value, p_value\n",
    "\n",
    "# Example usage\n",
    "data1 = np.array([1, 2, 3, 4, 5])\n",
    "data2 = np.array([6, 7, 8, 9, 10])\n",
    "f_value, p_value = calculate_f_value(data1, data2)\n",
    "print(f\"F-value: {f_value}, p-value: {p_value}\")\n"
   ]
  },
  {
   "cell_type": "markdown",
   "id": "9adaa4ac-d4a3-4b1c-b2b1-4b61f06b7c42",
   "metadata": {},
   "source": [
    "### <b>Question No. 2"
   ]
  },
  {
   "cell_type": "code",
   "execution_count": 2,
   "id": "f45ddd37-fef6-4c31-a70c-4282990e0ce8",
   "metadata": {},
   "outputs": [
    {
     "name": "stdout",
     "output_type": "stream",
     "text": [
      "Critical F-value: 4.825621493405406\n"
     ]
    }
   ],
   "source": [
    "from scipy.stats import f\n",
    "\n",
    "def get_critical_f_value(alpha, dfn, dfd):\n",
    "    # Calculate the critical F-value\n",
    "    critical_f_value = f.ppf(1 - alpha / 2, dfn, dfd)\n",
    "    \n",
    "    return critical_f_value\n",
    "\n",
    "# Example usage\n",
    "alpha = 0.05\n",
    "dfn = 3  # degrees of freedom for the numerator\n",
    "dfd = 10  # degrees of freedom for the denominator\n",
    "critical_f_value = get_critical_f_value(alpha, dfn, dfd)\n",
    "print(f\"Critical F-value: {critical_f_value}\")\n"
   ]
  },
  {
   "cell_type": "markdown",
   "id": "64c5cf8b-55ab-4eea-97b3-87d46b83114a",
   "metadata": {},
   "source": [
    "### <b>Question No. 3"
   ]
  },
  {
   "cell_type": "code",
   "execution_count": 3,
   "id": "9eb3cbd2-3dbc-4a74-b5b9-90d5a40ab623",
   "metadata": {},
   "outputs": [
    {
     "name": "stdout",
     "output_type": "stream",
     "text": [
      "F-value: 1.0538568052248827\n",
      "Degrees of freedom (numerator): 99\n",
      "Degrees of freedom (denominator): 99\n",
      "P-value: 0.7946361118238998\n",
      "Equal variances: True\n"
     ]
    }
   ],
   "source": [
    "import numpy as np\n",
    "from scipy.stats import f\n",
    "\n",
    "# Parameters\n",
    "np.random.seed(0)\n",
    "mean1, mean2 = 0, 0\n",
    "variance1, variance2 = 1, 1\n",
    "sample_size = 100\n",
    "alpha = 0.05\n",
    "\n",
    "# Generate random samples\n",
    "sample1 = np.random.normal(mean1, np.sqrt(variance1), sample_size)\n",
    "sample2 = np.random.normal(mean2, np.sqrt(variance2), sample_size)\n",
    "\n",
    "# Calculate the variances\n",
    "var1 = np.var(sample1, ddof=1)  # ddof=1 for unbiased estimate\n",
    "var2 = np.var(sample2, ddof=1)\n",
    "\n",
    "# Perform F-test\n",
    "f_value = var1 / var2 if var1 > var2 else var2 / var1\n",
    "dfn = sample_size - 1\n",
    "dfd = sample_size - 1\n",
    "p_value = 2 * min(f.cdf(f_value, dfn, dfd), 1 - f.cdf(f_value, dfn, dfd))\n",
    "\n",
    "# Output the results\n",
    "print(f\"F-value: {f_value}\")\n",
    "print(f\"Degrees of freedom (numerator): {dfn}\")\n",
    "print(f\"Degrees of freedom (denominator): {dfd}\")\n",
    "print(f\"P-value: {p_value}\")\n",
    "print(f\"Equal variances: {p_value > alpha}\")\n"
   ]
  },
  {
   "cell_type": "markdown",
   "id": "b83cf481-c324-4334-aa90-46319d1f9741",
   "metadata": {},
   "source": [
    "### <b>Question No. 4"
   ]
  },
  {
   "cell_type": "markdown",
   "id": "98915e51-087e-43f4-9fa4-af8f6cfda9b1",
   "metadata": {},
   "source": [
    "To conduct an F-test to determine if the variances of two populations are significantly different, we use the following hypothesis test:\n",
    "\n",
    "- Null Hypothesis (H0): The variances are equal.\n",
    "- Alternative Hypothesis (H1): The variances are not equal.\n",
    "\n",
    "The F-statistic is calculated as the ratio of the larger variance to the smaller variance. If the calculated F-statistic is greater than the critical F-value from the F-distribution table, we reject the null hypothesis and conclude that the variances are significantly different.\n",
    "\n",
    "Given:\n",
    "- Population 1 variance = 10\n",
    "- Population 2 variance = 15\n",
    "- Sample size from each population = 12\n",
    "- Significance level = 0.05\n",
    "\n",
    "Calculating the F-statistic:\n",
    "\n",
    "F = s1^2 / s2^2\n",
    "\n",
    "where s1^2 and s2^2 are the sample variances for each population. Since the sample variance is an unbiased estimator of the population variance, we use the formula:\n",
    "\n",
    "s^2 = Σ(xi - x̄)^2 / (n-1)\n",
    "\n",
    "where n is the sample size and x̄ is the sample mean.\n",
    "\n",
    "For both populations, the degrees of freedom for the sample variance is (n - 1) = (12 - 1) = 11.\n",
    "\n",
    "Calculating the F-statistic:\n",
    "\n",
    "For Population 1:\n",
    "s1^2 = 10 (given)\n",
    "s1 ≈ √10 ≈ 3.16\n",
    "\n",
    "For Population 2:\n",
    "s2^2 = 15 (given)\n",
    "s2 ≈ √15 ≈ 3.87\n",
    "\n",
    "F = 3.87^2 / 3.16^2 ≈ 14.98 / 9.98 ≈ 1.50\n",
    "\n",
    "Now, we need to find the critical F-value for df1 = 11 and df2 = 11 at the 5% significance level. From the F-distribution table or a statistical calculator, the critical F-value is approximately 2.75.\n",
    "\n",
    "Since the calculated F-statistic (1.50) is less than the critical F-value (2.75), we fail to reject the null hypothesis. We do not have enough evidence to conclude that the variances are significantly different."
   ]
  },
  {
   "cell_type": "markdown",
   "id": "db4e5aab-84d4-424c-8a66-1f95cdc99916",
   "metadata": {},
   "source": [
    "### <b>Question No. 5"
   ]
  },
  {
   "cell_type": "markdown",
   "id": "f58687a8-6c8a-4b52-a61f-01297edb52a0",
   "metadata": {},
   "source": [
    "To conduct an F-test to determine if the manufacturer's claim about the variance of the product diameter is justified, we use the following hypothesis test:\n",
    "\n",
    "- Null Hypothesis (H0): The variance of the product diameter is 0.005.\n",
    "- Alternative Hypothesis (H1): The variance of the product diameter is not 0.005.\n",
    "\n",
    "The F-statistic is calculated as the ratio of the sample variance to the claimed variance. If the calculated F-statistic is greater than the critical F-value from the F-distribution table, we reject the null hypothesis and conclude that the claim is not justified.\n",
    "\n",
    "Given:\n",
    "- Manufacturer's claim: Variance = 0.005\n",
    "- Sample variance = 0.006\n",
    "- Sample size = 25\n",
    "- Significance level = 0.01\n",
    "\n",
    "Calculating the F-statistic:\n",
    "\n",
    "F = s^2 / σ^2\n",
    "\n",
    "where s^2 is the sample variance, σ^2 is the claimed variance, and F is the F-statistic.\n",
    "\n",
    "F = 0.006 / 0.005 = 1.2\n",
    "\n",
    "Now, we need to find the critical F-value for degrees of freedom df1 = 24 (sample size - 1) and df2 = 24 (sample size - 1) at the 1% significance level. From the F-distribution table or a statistical calculator, the critical F-value is approximately 2.75.\n",
    "\n",
    "Since the calculated F-statistic (1.2) is less than the critical F-value (2.75), we fail to reject the null hypothesis. There is not enough evidence to conclude that the claimed variance is not justified."
   ]
  },
  {
   "cell_type": "markdown",
   "id": "7a7d271c-61a0-406d-843e-5603f59a39cb",
   "metadata": {},
   "source": [
    "### <b>Question No. 6"
   ]
  },
  {
   "cell_type": "markdown",
   "id": "7007814c-3e19-4fd4-aee4-5918af526063",
   "metadata": {},
   "source": [
    "Here's a Python function that takes in the degrees of freedom for the numerator (dfn) and denominator (dfd) of an F-distribution and calculates the mean and variance of the distribution. It then returns the mean and variance as a tuple:\n",
    "\n",
    "```python\n",
    "def f_distribution_mean_var(dfn, dfd):\n",
    "    if dfn <= 0 or dfd <= 0:\n",
    "        raise ValueError(\"Degrees of freedom must be greater than zero.\")\n",
    "\n",
    "    mean = dfd / (dfd - 2)\n",
    "    if dfd <= 2:\n",
    "        variance = float('inf')\n",
    "    else:\n",
    "        variance = (2 * dfd**2 * (dfn + dfd - 2)) / (dfn * (dfd - 2)**2 * (dfd - 4))\n",
    "    \n",
    "    return mean, variance\n",
    "\n",
    "# Example usage\n",
    "dfn = 5\n",
    "dfd = 10\n",
    "mean, variance = f_distribution_mean_var(dfn, dfd)\n",
    "print(f\"Mean: {mean}, Variance: {variance}\")\n",
    "```\n",
    "\n",
    "This function checks that the degrees of freedom are greater than zero, calculates the mean and variance based on the formulas for the F-distribution, and returns them as a tuple."
   ]
  },
  {
   "cell_type": "markdown",
   "id": "f9e6998f-6a05-4195-8908-d5eee564f8dc",
   "metadata": {},
   "source": [
    "### <b>Question No. 7"
   ]
  },
  {
   "cell_type": "markdown",
   "id": "bd35340b-77de-4bde-a70b-59759ee7c013",
   "metadata": {},
   "source": [
    "To conduct an F-test to determine if the variances of two populations are significantly different, we use the following hypothesis test:\n",
    "\n",
    "- Null Hypothesis (H0): The variances are equal.\n",
    "- Alternative Hypothesis (H1): The variances are not equal.\n",
    "\n",
    "The F-statistic is calculated as the ratio of the larger sample variance to the smaller sample variance. If the calculated F-statistic is greater than the critical F-value from the F-distribution table, we reject the null hypothesis and conclude that the variances are significantly different.\n",
    "\n",
    "Given:\n",
    "- Sample variance for first population = 25\n",
    "- Sample variance for second population = 20\n",
    "- Sample size for first population = 10\n",
    "- Sample size for second population = 15\n",
    "- Significance level = 0.10\n",
    "\n",
    "Calculating the F-statistic:\n",
    "\n",
    "F = s1^2 / s2^2\n",
    "\n",
    "where s1^2 and s2^2 are the sample variances for each population.\n",
    "\n",
    "For the first population:\n",
    "s1^2 = 25 (given)\n",
    "\n",
    "For the second population:\n",
    "s2^2 = 20 (given)\n",
    "\n",
    "F = 25 / 20 = 5 / 4 = 1.25\n",
    "\n",
    "Now, we need to find the critical F-value for df1 = 9 and df2 = 14 at the 10% significance level. From the F-distribution table or a statistical calculator, the critical F-value is approximately 2.63.\n",
    "\n",
    "Since the calculated F-statistic (1.25) is less than the critical F-value (2.63), we fail to reject the null hypothesis. We do not have enough evidence to conclude that the variances are significantly different."
   ]
  },
  {
   "cell_type": "markdown",
   "id": "b688e988-9b69-4600-8848-79f440c03fa4",
   "metadata": {},
   "source": [
    "### <b>Question No. 8"
   ]
  },
  {
   "cell_type": "markdown",
   "id": "344f4bb5-0c42-4a3f-9f99-301bfe9113b7",
   "metadata": {},
   "source": [
    "To conduct an F-test to determine if the variances of the waiting times at two different restaurants are significantly different, we use the following hypothesis test:\n",
    "\n",
    "- Null Hypothesis (H0): The variances are equal.\n",
    "- Alternative Hypothesis (H1): The variances are not equal.\n",
    "\n",
    "The F-statistic is calculated as the ratio of the larger sample variance to the smaller sample variance. If the calculated F-statistic is greater than the critical F-value from the F-distribution table, we reject the null hypothesis and conclude that the variances are significantly different.\n",
    "\n",
    "Given data:\n",
    "Restaurant A waiting times: 24, 25, 28, 23, 22, 20, 27\n",
    "Restaurant B waiting times: 31, 33, 35, 30, 32, 36\n",
    "Sample sizes: nA = 7, nB = 6\n",
    "Significance level = 0.05\n",
    "\n",
    "Calculating the sample variances:\n",
    "\n",
    "For Restaurant A:\n",
    "Mean = (24 + 25 + 28 + 23 + 22 + 20 + 27) / 7 ≈ 24.14\n",
    "Sample variance = Σ(xi - x̄)^2 / (n - 1) = [(24-24.14)^2 + (25-24.14)^2 + ... + (27-24.14)^2] / 6 ≈ 5.71\n",
    "\n",
    "For Restaurant B:\n",
    "Mean = (31 + 33 + 35 + 30 + 32 + 36) / 6 ≈ 32.83\n",
    "Sample variance = Σ(xi - x̄)^2 / (n - 1) = [(31-32.83)^2 + (33-32.83)^2 + ... + (36-32.83)^2] / 5 ≈ 5.47\n",
    "\n",
    "Calculating the F-statistic:\n",
    "\n",
    "F = sA^2 / sB^2 ≈ 5.71 / 5.47 ≈ 1.04\n",
    "\n",
    "Now, we need to find the critical F-value for df1 = 6 - 1 = 5 and df2 = 7 - 1 = 6 at the 5% significance level. From the F-distribution table or a statistical calculator, the critical F-value is approximately 4.75.\n",
    "\n",
    "Since the calculated F-statistic (1.04) is less than the critical F-value (4.75), we fail to reject the null hypothesis. We do not have enough evidence to conclude that the variances of waiting times at the two restaurants are significantly different."
   ]
  },
  {
   "cell_type": "markdown",
   "id": "f4ad797c-450f-4299-9fec-de6a512549a8",
   "metadata": {},
   "source": [
    "### <b>Question No. 9"
   ]
  },
  {
   "cell_type": "markdown",
   "id": "c33f547d-96ae-4b70-bddd-ab0ce59a5875",
   "metadata": {},
   "source": [
    "To conduct an F-test to determine if the variances of the test scores of two groups of students are significantly different, we use the following hypothesis test:\n",
    "\n",
    "- Null Hypothesis (H0): The variances are equal.\n",
    "- Alternative Hypothesis (H1): The variances are not equal.\n",
    "\n",
    "The F-statistic is calculated as the ratio of the larger sample variance to the smaller sample variance. If the calculated F-statistic is greater than the critical F-value from the F-distribution table, we reject the null hypothesis and conclude that the variances are significantly different.\n",
    "\n",
    "Given data:\n",
    "Group A test scores: 80, 85, 90, 92, 87, 83\n",
    "Group B test scores: 75, 78, 82, 79, 81, 84\n",
    "Sample sizes: nA = 6, nB = 6\n",
    "Significance level = 0.01\n",
    "\n",
    "Calculating the sample variances:\n",
    "\n",
    "For Group A:\n",
    "Mean = (80 + 85 + 90 + 92 + 87 + 83) / 6 = 85.17\n",
    "Sample variance = Σ(xi - x̄)^2 / (n - 1) = [(80-85.17)^2 + (85-85.17)^2 + ... + (83-85.17)^2] / 5 ≈ 17.83\n",
    "\n",
    "For Group B:\n",
    "Mean = (75 + 78 + 82 + 79 + 81 + 84) / 6 = 79.83\n",
    "Sample variance = Σ(xi - x̄)^2 / (n - 1) = [(75-79.83)^2 + (78-79.83)^2 + ... + (84-79.83)^2] / 5 ≈ 11.47\n",
    "\n",
    "Calculating the F-statistic:\n",
    "\n",
    "F = sA^2 / sB^2 ≈ 17.83 / 11.47 ≈ 1.55\n",
    "\n",
    "Now, we need to find the critical F-value for df1 = 6 - 1 = 5 and df2 = 6 - 1 = 5 at the 1% significance level. From the F-distribution table or a statistical calculator, the critical F-value is approximately 10.13.\n",
    "\n",
    "Since the calculated F-statistic (1.55) is less than the critical F-value (10.13), we fail to reject the null hypothesis. We do not have enough evidence to conclude that the variances of test scores in the two groups are significantly different."
   ]
  }
 ],
 "metadata": {
  "kernelspec": {
   "display_name": "Python 3 (ipykernel)",
   "language": "python",
   "name": "python3"
  },
  "language_info": {
   "codemirror_mode": {
    "name": "ipython",
    "version": 3
   },
   "file_extension": ".py",
   "mimetype": "text/x-python",
   "name": "python",
   "nbconvert_exporter": "python",
   "pygments_lexer": "ipython3",
   "version": "3.10.12"
  }
 },
 "nbformat": 4,
 "nbformat_minor": 5
}
